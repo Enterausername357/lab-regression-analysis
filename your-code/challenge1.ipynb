{
  "cells": [
    {
      "cell_type": "markdown",
      "metadata": {
        "id": "HLUOJxcSIybs"
      },
      "source": [
        "# Lab: Regression Analysis"
      ]
    },
    {
      "cell_type": "markdown",
      "metadata": {
        "id": "TJMT9cgtIybt"
      },
      "source": [
        "### Before you start:\n",
        "\n",
        "* Read the README.md file\n",
        "* Comment as much as you can and use the resources (README.md file)\n",
        "\n",
        "Happy learning!"
      ]
    },
    {
      "cell_type": "markdown",
      "metadata": {
        "id": "_sj5FBgCIybt"
      },
      "source": [
        "## Challenge 1\n",
        "I work at a coding bootcamp, and I have developed a theory that the younger my students are, the more often they are late to class. In order to test my hypothesis, I have collected some data in the following table:\n",
        "\n",
        "| StudentID | Age | Tardies |\n",
        "|--------|-----|------------|\n",
        "| 1      | 17  | 10         |\n",
        "| 2      | 51  | 1          |\n",
        "| 3      | 27  | 5          |\n",
        "| 4      | 21  | 9         |\n",
        "| 5      | 36  |  4         |\n",
        "| 6      | 48  |  2         |\n",
        "| 7      | 19  |  9         |\n",
        "| 8      | 26  | 6          |\n",
        "| 9      | 54  |  0         |\n",
        "| 10     | 30  |  3         |"
      ]
    },
    {
      "cell_type": "markdown",
      "metadata": {
        "id": "DUCwV4blIybt"
      },
      "source": [
        "Use this command to create a dataframe with the data provided in the table.\n",
        "~~~~\n",
        "student_data = pd.DataFrame({'X': [x_values], 'Y': [y_values]})\n",
        "~~~~"
      ]
    },
    {
      "cell_type": "code",
      "execution_count": 285,
      "metadata": {
        "id": "D8GNqoLiIybu"
      },
      "outputs": [],
      "source": [
        "# Your code here.\n",
        "import pandas as pd\n",
        "import numpy as np\n",
        "import matplotlib.pyplot as plt\n",
        "import seaborn as sns\n",
        "from sklearn.linear_model import LinearRegression\n",
        "from io import StringIO\n",
        "from sklearn.model_selection import train_test_split\n"
      ]
    },
    {
      "cell_type": "code",
      "source": [
        "table_text = '''\n",
        "StudentID\tAge\tTardies\n",
        "1\t17\t10\n",
        "2\t51\t1\n",
        "3\t27\t5\n",
        "4\t21\t9\n",
        "5\t36\t4\n",
        "6\t48\t2\n",
        "7\t19\t9\n",
        "8\t26\t6\n",
        "9\t54\t0\n",
        "10\t30\t3'''"
      ],
      "metadata": {
        "id": "NY0kNrSXL_uv"
      },
      "execution_count": 286,
      "outputs": []
    },
    {
      "cell_type": "code",
      "source": [
        "table_data = StringIO(table_text)\n",
        "\n",
        "# Read the table into a DataFrame\n",
        "df = pd.read_csv(table_data, delim_whitespace=True, index_col=0)\n",
        "\n",
        "# Display the DataFrame\n",
        "df.head(10)\n",
        "#I had to search for a way to read the table inside the file, not as a separate file.\n",
        "# The given commad didn`t work saying that none of the values x,x_values, etc existed"
      ],
      "metadata": {
        "colab": {
          "base_uri": "https://localhost:8080/",
          "height": 394
        },
        "id": "L6-E11ViOP0D",
        "outputId": "8c9f8394-e9e9-4cbc-f02d-0d4ad59f7f8d"
      },
      "execution_count": 287,
      "outputs": [
        {
          "output_type": "execute_result",
          "data": {
            "text/plain": [
              "           Age  Tardies\n",
              "StudentID              \n",
              "1           17       10\n",
              "2           51        1\n",
              "3           27        5\n",
              "4           21        9\n",
              "5           36        4\n",
              "6           48        2\n",
              "7           19        9\n",
              "8           26        6\n",
              "9           54        0\n",
              "10          30        3"
            ],
            "text/html": [
              "\n",
              "  <div id=\"df-f7209431-cc02-4f8a-85ba-0675883c9cee\" class=\"colab-df-container\">\n",
              "    <div>\n",
              "<style scoped>\n",
              "    .dataframe tbody tr th:only-of-type {\n",
              "        vertical-align: middle;\n",
              "    }\n",
              "\n",
              "    .dataframe tbody tr th {\n",
              "        vertical-align: top;\n",
              "    }\n",
              "\n",
              "    .dataframe thead th {\n",
              "        text-align: right;\n",
              "    }\n",
              "</style>\n",
              "<table border=\"1\" class=\"dataframe\">\n",
              "  <thead>\n",
              "    <tr style=\"text-align: right;\">\n",
              "      <th></th>\n",
              "      <th>Age</th>\n",
              "      <th>Tardies</th>\n",
              "    </tr>\n",
              "    <tr>\n",
              "      <th>StudentID</th>\n",
              "      <th></th>\n",
              "      <th></th>\n",
              "    </tr>\n",
              "  </thead>\n",
              "  <tbody>\n",
              "    <tr>\n",
              "      <th>1</th>\n",
              "      <td>17</td>\n",
              "      <td>10</td>\n",
              "    </tr>\n",
              "    <tr>\n",
              "      <th>2</th>\n",
              "      <td>51</td>\n",
              "      <td>1</td>\n",
              "    </tr>\n",
              "    <tr>\n",
              "      <th>3</th>\n",
              "      <td>27</td>\n",
              "      <td>5</td>\n",
              "    </tr>\n",
              "    <tr>\n",
              "      <th>4</th>\n",
              "      <td>21</td>\n",
              "      <td>9</td>\n",
              "    </tr>\n",
              "    <tr>\n",
              "      <th>5</th>\n",
              "      <td>36</td>\n",
              "      <td>4</td>\n",
              "    </tr>\n",
              "    <tr>\n",
              "      <th>6</th>\n",
              "      <td>48</td>\n",
              "      <td>2</td>\n",
              "    </tr>\n",
              "    <tr>\n",
              "      <th>7</th>\n",
              "      <td>19</td>\n",
              "      <td>9</td>\n",
              "    </tr>\n",
              "    <tr>\n",
              "      <th>8</th>\n",
              "      <td>26</td>\n",
              "      <td>6</td>\n",
              "    </tr>\n",
              "    <tr>\n",
              "      <th>9</th>\n",
              "      <td>54</td>\n",
              "      <td>0</td>\n",
              "    </tr>\n",
              "    <tr>\n",
              "      <th>10</th>\n",
              "      <td>30</td>\n",
              "      <td>3</td>\n",
              "    </tr>\n",
              "  </tbody>\n",
              "</table>\n",
              "</div>\n",
              "    <div class=\"colab-df-buttons\">\n",
              "\n",
              "  <div class=\"colab-df-container\">\n",
              "    <button class=\"colab-df-convert\" onclick=\"convertToInteractive('df-f7209431-cc02-4f8a-85ba-0675883c9cee')\"\n",
              "            title=\"Convert this dataframe to an interactive table.\"\n",
              "            style=\"display:none;\">\n",
              "\n",
              "  <svg xmlns=\"http://www.w3.org/2000/svg\" height=\"24px\" viewBox=\"0 -960 960 960\">\n",
              "    <path d=\"M120-120v-720h720v720H120Zm60-500h600v-160H180v160Zm220 220h160v-160H400v160Zm0 220h160v-160H400v160ZM180-400h160v-160H180v160Zm440 0h160v-160H620v160ZM180-180h160v-160H180v160Zm440 0h160v-160H620v160Z\"/>\n",
              "  </svg>\n",
              "    </button>\n",
              "\n",
              "  <style>\n",
              "    .colab-df-container {\n",
              "      display:flex;\n",
              "      gap: 12px;\n",
              "    }\n",
              "\n",
              "    .colab-df-convert {\n",
              "      background-color: #E8F0FE;\n",
              "      border: none;\n",
              "      border-radius: 50%;\n",
              "      cursor: pointer;\n",
              "      display: none;\n",
              "      fill: #1967D2;\n",
              "      height: 32px;\n",
              "      padding: 0 0 0 0;\n",
              "      width: 32px;\n",
              "    }\n",
              "\n",
              "    .colab-df-convert:hover {\n",
              "      background-color: #E2EBFA;\n",
              "      box-shadow: 0px 1px 2px rgba(60, 64, 67, 0.3), 0px 1px 3px 1px rgba(60, 64, 67, 0.15);\n",
              "      fill: #174EA6;\n",
              "    }\n",
              "\n",
              "    .colab-df-buttons div {\n",
              "      margin-bottom: 4px;\n",
              "    }\n",
              "\n",
              "    [theme=dark] .colab-df-convert {\n",
              "      background-color: #3B4455;\n",
              "      fill: #D2E3FC;\n",
              "    }\n",
              "\n",
              "    [theme=dark] .colab-df-convert:hover {\n",
              "      background-color: #434B5C;\n",
              "      box-shadow: 0px 1px 3px 1px rgba(0, 0, 0, 0.15);\n",
              "      filter: drop-shadow(0px 1px 2px rgba(0, 0, 0, 0.3));\n",
              "      fill: #FFFFFF;\n",
              "    }\n",
              "  </style>\n",
              "\n",
              "    <script>\n",
              "      const buttonEl =\n",
              "        document.querySelector('#df-f7209431-cc02-4f8a-85ba-0675883c9cee button.colab-df-convert');\n",
              "      buttonEl.style.display =\n",
              "        google.colab.kernel.accessAllowed ? 'block' : 'none';\n",
              "\n",
              "      async function convertToInteractive(key) {\n",
              "        const element = document.querySelector('#df-f7209431-cc02-4f8a-85ba-0675883c9cee');\n",
              "        const dataTable =\n",
              "          await google.colab.kernel.invokeFunction('convertToInteractive',\n",
              "                                                    [key], {});\n",
              "        if (!dataTable) return;\n",
              "\n",
              "        const docLinkHtml = 'Like what you see? Visit the ' +\n",
              "          '<a target=\"_blank\" href=https://colab.research.google.com/notebooks/data_table.ipynb>data table notebook</a>'\n",
              "          + ' to learn more about interactive tables.';\n",
              "        element.innerHTML = '';\n",
              "        dataTable['output_type'] = 'display_data';\n",
              "        await google.colab.output.renderOutput(dataTable, element);\n",
              "        const docLink = document.createElement('div');\n",
              "        docLink.innerHTML = docLinkHtml;\n",
              "        element.appendChild(docLink);\n",
              "      }\n",
              "    </script>\n",
              "  </div>\n",
              "\n",
              "\n",
              "<div id=\"df-e77e07d5-dea4-4806-b5e2-f3ab4d20ff0d\">\n",
              "  <button class=\"colab-df-quickchart\" onclick=\"quickchart('df-e77e07d5-dea4-4806-b5e2-f3ab4d20ff0d')\"\n",
              "            title=\"Suggest charts\"\n",
              "            style=\"display:none;\">\n",
              "\n",
              "<svg xmlns=\"http://www.w3.org/2000/svg\" height=\"24px\"viewBox=\"0 0 24 24\"\n",
              "     width=\"24px\">\n",
              "    <g>\n",
              "        <path d=\"M19 3H5c-1.1 0-2 .9-2 2v14c0 1.1.9 2 2 2h14c1.1 0 2-.9 2-2V5c0-1.1-.9-2-2-2zM9 17H7v-7h2v7zm4 0h-2V7h2v10zm4 0h-2v-4h2v4z\"/>\n",
              "    </g>\n",
              "</svg>\n",
              "  </button>\n",
              "\n",
              "<style>\n",
              "  .colab-df-quickchart {\n",
              "      --bg-color: #E8F0FE;\n",
              "      --fill-color: #1967D2;\n",
              "      --hover-bg-color: #E2EBFA;\n",
              "      --hover-fill-color: #174EA6;\n",
              "      --disabled-fill-color: #AAA;\n",
              "      --disabled-bg-color: #DDD;\n",
              "  }\n",
              "\n",
              "  [theme=dark] .colab-df-quickchart {\n",
              "      --bg-color: #3B4455;\n",
              "      --fill-color: #D2E3FC;\n",
              "      --hover-bg-color: #434B5C;\n",
              "      --hover-fill-color: #FFFFFF;\n",
              "      --disabled-bg-color: #3B4455;\n",
              "      --disabled-fill-color: #666;\n",
              "  }\n",
              "\n",
              "  .colab-df-quickchart {\n",
              "    background-color: var(--bg-color);\n",
              "    border: none;\n",
              "    border-radius: 50%;\n",
              "    cursor: pointer;\n",
              "    display: none;\n",
              "    fill: var(--fill-color);\n",
              "    height: 32px;\n",
              "    padding: 0;\n",
              "    width: 32px;\n",
              "  }\n",
              "\n",
              "  .colab-df-quickchart:hover {\n",
              "    background-color: var(--hover-bg-color);\n",
              "    box-shadow: 0 1px 2px rgba(60, 64, 67, 0.3), 0 1px 3px 1px rgba(60, 64, 67, 0.15);\n",
              "    fill: var(--button-hover-fill-color);\n",
              "  }\n",
              "\n",
              "  .colab-df-quickchart-complete:disabled,\n",
              "  .colab-df-quickchart-complete:disabled:hover {\n",
              "    background-color: var(--disabled-bg-color);\n",
              "    fill: var(--disabled-fill-color);\n",
              "    box-shadow: none;\n",
              "  }\n",
              "\n",
              "  .colab-df-spinner {\n",
              "    border: 2px solid var(--fill-color);\n",
              "    border-color: transparent;\n",
              "    border-bottom-color: var(--fill-color);\n",
              "    animation:\n",
              "      spin 1s steps(1) infinite;\n",
              "  }\n",
              "\n",
              "  @keyframes spin {\n",
              "    0% {\n",
              "      border-color: transparent;\n",
              "      border-bottom-color: var(--fill-color);\n",
              "      border-left-color: var(--fill-color);\n",
              "    }\n",
              "    20% {\n",
              "      border-color: transparent;\n",
              "      border-left-color: var(--fill-color);\n",
              "      border-top-color: var(--fill-color);\n",
              "    }\n",
              "    30% {\n",
              "      border-color: transparent;\n",
              "      border-left-color: var(--fill-color);\n",
              "      border-top-color: var(--fill-color);\n",
              "      border-right-color: var(--fill-color);\n",
              "    }\n",
              "    40% {\n",
              "      border-color: transparent;\n",
              "      border-right-color: var(--fill-color);\n",
              "      border-top-color: var(--fill-color);\n",
              "    }\n",
              "    60% {\n",
              "      border-color: transparent;\n",
              "      border-right-color: var(--fill-color);\n",
              "    }\n",
              "    80% {\n",
              "      border-color: transparent;\n",
              "      border-right-color: var(--fill-color);\n",
              "      border-bottom-color: var(--fill-color);\n",
              "    }\n",
              "    90% {\n",
              "      border-color: transparent;\n",
              "      border-bottom-color: var(--fill-color);\n",
              "    }\n",
              "  }\n",
              "</style>\n",
              "\n",
              "  <script>\n",
              "    async function quickchart(key) {\n",
              "      const quickchartButtonEl =\n",
              "        document.querySelector('#' + key + ' button');\n",
              "      quickchartButtonEl.disabled = true;  // To prevent multiple clicks.\n",
              "      quickchartButtonEl.classList.add('colab-df-spinner');\n",
              "      try {\n",
              "        const charts = await google.colab.kernel.invokeFunction(\n",
              "            'suggestCharts', [key], {});\n",
              "      } catch (error) {\n",
              "        console.error('Error during call to suggestCharts:', error);\n",
              "      }\n",
              "      quickchartButtonEl.classList.remove('colab-df-spinner');\n",
              "      quickchartButtonEl.classList.add('colab-df-quickchart-complete');\n",
              "    }\n",
              "    (() => {\n",
              "      let quickchartButtonEl =\n",
              "        document.querySelector('#df-e77e07d5-dea4-4806-b5e2-f3ab4d20ff0d button');\n",
              "      quickchartButtonEl.style.display =\n",
              "        google.colab.kernel.accessAllowed ? 'block' : 'none';\n",
              "    })();\n",
              "  </script>\n",
              "</div>\n",
              "\n",
              "    </div>\n",
              "  </div>\n"
            ],
            "application/vnd.google.colaboratory.intrinsic+json": {
              "type": "dataframe",
              "summary": "{\n  \"name\": \"# The given commad didn`t work saying that none of the values x,x_values, etc existed\",\n  \"rows\": 10,\n  \"fields\": [\n    {\n      \"column\": \"StudentID\",\n      \"properties\": {\n        \"dtype\": \"number\",\n        \"std\": 3,\n        \"min\": 1,\n        \"max\": 10,\n        \"num_unique_values\": 10,\n        \"samples\": [\n          9,\n          2,\n          6\n        ],\n        \"semantic_type\": \"\",\n        \"description\": \"\"\n      }\n    },\n    {\n      \"column\": \"Age\",\n      \"properties\": {\n        \"dtype\": \"number\",\n        \"std\": 13,\n        \"min\": 17,\n        \"max\": 54,\n        \"num_unique_values\": 10,\n        \"samples\": [\n          54,\n          51,\n          48\n        ],\n        \"semantic_type\": \"\",\n        \"description\": \"\"\n      }\n    },\n    {\n      \"column\": \"Tardies\",\n      \"properties\": {\n        \"dtype\": \"number\",\n        \"std\": 3,\n        \"min\": 0,\n        \"max\": 10,\n        \"num_unique_values\": 9,\n        \"samples\": [\n          0,\n          1,\n          2\n        ],\n        \"semantic_type\": \"\",\n        \"description\": \"\"\n      }\n    }\n  ]\n}"
            }
          },
          "metadata": {},
          "execution_count": 287
        }
      ]
    },
    {
      "cell_type": "code",
      "source": [
        "# Extract the 'Tardies' and 'Age' columns from the DataFrame\n",
        "x_values = df['Age']\n",
        "y_values = df['Tardies']\n",
        "student_data = pd.DataFrame({'Age': x_values, 'Tardies': y_values})\n",
        "student_data.head(10)"
      ],
      "metadata": {
        "colab": {
          "base_uri": "https://localhost:8080/",
          "height": 394
        },
        "id": "1puaIqCrJzd8",
        "outputId": "93faaace-18e0-4841-d81d-15f4e2d232f1"
      },
      "execution_count": 288,
      "outputs": [
        {
          "output_type": "execute_result",
          "data": {
            "text/plain": [
              "           Age  Tardies\n",
              "StudentID              \n",
              "1           17       10\n",
              "2           51        1\n",
              "3           27        5\n",
              "4           21        9\n",
              "5           36        4\n",
              "6           48        2\n",
              "7           19        9\n",
              "8           26        6\n",
              "9           54        0\n",
              "10          30        3"
            ],
            "text/html": [
              "\n",
              "  <div id=\"df-7b1ba9f5-d938-4e0b-9ef5-7ee42a726f9f\" class=\"colab-df-container\">\n",
              "    <div>\n",
              "<style scoped>\n",
              "    .dataframe tbody tr th:only-of-type {\n",
              "        vertical-align: middle;\n",
              "    }\n",
              "\n",
              "    .dataframe tbody tr th {\n",
              "        vertical-align: top;\n",
              "    }\n",
              "\n",
              "    .dataframe thead th {\n",
              "        text-align: right;\n",
              "    }\n",
              "</style>\n",
              "<table border=\"1\" class=\"dataframe\">\n",
              "  <thead>\n",
              "    <tr style=\"text-align: right;\">\n",
              "      <th></th>\n",
              "      <th>Age</th>\n",
              "      <th>Tardies</th>\n",
              "    </tr>\n",
              "    <tr>\n",
              "      <th>StudentID</th>\n",
              "      <th></th>\n",
              "      <th></th>\n",
              "    </tr>\n",
              "  </thead>\n",
              "  <tbody>\n",
              "    <tr>\n",
              "      <th>1</th>\n",
              "      <td>17</td>\n",
              "      <td>10</td>\n",
              "    </tr>\n",
              "    <tr>\n",
              "      <th>2</th>\n",
              "      <td>51</td>\n",
              "      <td>1</td>\n",
              "    </tr>\n",
              "    <tr>\n",
              "      <th>3</th>\n",
              "      <td>27</td>\n",
              "      <td>5</td>\n",
              "    </tr>\n",
              "    <tr>\n",
              "      <th>4</th>\n",
              "      <td>21</td>\n",
              "      <td>9</td>\n",
              "    </tr>\n",
              "    <tr>\n",
              "      <th>5</th>\n",
              "      <td>36</td>\n",
              "      <td>4</td>\n",
              "    </tr>\n",
              "    <tr>\n",
              "      <th>6</th>\n",
              "      <td>48</td>\n",
              "      <td>2</td>\n",
              "    </tr>\n",
              "    <tr>\n",
              "      <th>7</th>\n",
              "      <td>19</td>\n",
              "      <td>9</td>\n",
              "    </tr>\n",
              "    <tr>\n",
              "      <th>8</th>\n",
              "      <td>26</td>\n",
              "      <td>6</td>\n",
              "    </tr>\n",
              "    <tr>\n",
              "      <th>9</th>\n",
              "      <td>54</td>\n",
              "      <td>0</td>\n",
              "    </tr>\n",
              "    <tr>\n",
              "      <th>10</th>\n",
              "      <td>30</td>\n",
              "      <td>3</td>\n",
              "    </tr>\n",
              "  </tbody>\n",
              "</table>\n",
              "</div>\n",
              "    <div class=\"colab-df-buttons\">\n",
              "\n",
              "  <div class=\"colab-df-container\">\n",
              "    <button class=\"colab-df-convert\" onclick=\"convertToInteractive('df-7b1ba9f5-d938-4e0b-9ef5-7ee42a726f9f')\"\n",
              "            title=\"Convert this dataframe to an interactive table.\"\n",
              "            style=\"display:none;\">\n",
              "\n",
              "  <svg xmlns=\"http://www.w3.org/2000/svg\" height=\"24px\" viewBox=\"0 -960 960 960\">\n",
              "    <path d=\"M120-120v-720h720v720H120Zm60-500h600v-160H180v160Zm220 220h160v-160H400v160Zm0 220h160v-160H400v160ZM180-400h160v-160H180v160Zm440 0h160v-160H620v160ZM180-180h160v-160H180v160Zm440 0h160v-160H620v160Z\"/>\n",
              "  </svg>\n",
              "    </button>\n",
              "\n",
              "  <style>\n",
              "    .colab-df-container {\n",
              "      display:flex;\n",
              "      gap: 12px;\n",
              "    }\n",
              "\n",
              "    .colab-df-convert {\n",
              "      background-color: #E8F0FE;\n",
              "      border: none;\n",
              "      border-radius: 50%;\n",
              "      cursor: pointer;\n",
              "      display: none;\n",
              "      fill: #1967D2;\n",
              "      height: 32px;\n",
              "      padding: 0 0 0 0;\n",
              "      width: 32px;\n",
              "    }\n",
              "\n",
              "    .colab-df-convert:hover {\n",
              "      background-color: #E2EBFA;\n",
              "      box-shadow: 0px 1px 2px rgba(60, 64, 67, 0.3), 0px 1px 3px 1px rgba(60, 64, 67, 0.15);\n",
              "      fill: #174EA6;\n",
              "    }\n",
              "\n",
              "    .colab-df-buttons div {\n",
              "      margin-bottom: 4px;\n",
              "    }\n",
              "\n",
              "    [theme=dark] .colab-df-convert {\n",
              "      background-color: #3B4455;\n",
              "      fill: #D2E3FC;\n",
              "    }\n",
              "\n",
              "    [theme=dark] .colab-df-convert:hover {\n",
              "      background-color: #434B5C;\n",
              "      box-shadow: 0px 1px 3px 1px rgba(0, 0, 0, 0.15);\n",
              "      filter: drop-shadow(0px 1px 2px rgba(0, 0, 0, 0.3));\n",
              "      fill: #FFFFFF;\n",
              "    }\n",
              "  </style>\n",
              "\n",
              "    <script>\n",
              "      const buttonEl =\n",
              "        document.querySelector('#df-7b1ba9f5-d938-4e0b-9ef5-7ee42a726f9f button.colab-df-convert');\n",
              "      buttonEl.style.display =\n",
              "        google.colab.kernel.accessAllowed ? 'block' : 'none';\n",
              "\n",
              "      async function convertToInteractive(key) {\n",
              "        const element = document.querySelector('#df-7b1ba9f5-d938-4e0b-9ef5-7ee42a726f9f');\n",
              "        const dataTable =\n",
              "          await google.colab.kernel.invokeFunction('convertToInteractive',\n",
              "                                                    [key], {});\n",
              "        if (!dataTable) return;\n",
              "\n",
              "        const docLinkHtml = 'Like what you see? Visit the ' +\n",
              "          '<a target=\"_blank\" href=https://colab.research.google.com/notebooks/data_table.ipynb>data table notebook</a>'\n",
              "          + ' to learn more about interactive tables.';\n",
              "        element.innerHTML = '';\n",
              "        dataTable['output_type'] = 'display_data';\n",
              "        await google.colab.output.renderOutput(dataTable, element);\n",
              "        const docLink = document.createElement('div');\n",
              "        docLink.innerHTML = docLinkHtml;\n",
              "        element.appendChild(docLink);\n",
              "      }\n",
              "    </script>\n",
              "  </div>\n",
              "\n",
              "\n",
              "<div id=\"df-91700db6-dc09-461d-9d06-5e52236110d4\">\n",
              "  <button class=\"colab-df-quickchart\" onclick=\"quickchart('df-91700db6-dc09-461d-9d06-5e52236110d4')\"\n",
              "            title=\"Suggest charts\"\n",
              "            style=\"display:none;\">\n",
              "\n",
              "<svg xmlns=\"http://www.w3.org/2000/svg\" height=\"24px\"viewBox=\"0 0 24 24\"\n",
              "     width=\"24px\">\n",
              "    <g>\n",
              "        <path d=\"M19 3H5c-1.1 0-2 .9-2 2v14c0 1.1.9 2 2 2h14c1.1 0 2-.9 2-2V5c0-1.1-.9-2-2-2zM9 17H7v-7h2v7zm4 0h-2V7h2v10zm4 0h-2v-4h2v4z\"/>\n",
              "    </g>\n",
              "</svg>\n",
              "  </button>\n",
              "\n",
              "<style>\n",
              "  .colab-df-quickchart {\n",
              "      --bg-color: #E8F0FE;\n",
              "      --fill-color: #1967D2;\n",
              "      --hover-bg-color: #E2EBFA;\n",
              "      --hover-fill-color: #174EA6;\n",
              "      --disabled-fill-color: #AAA;\n",
              "      --disabled-bg-color: #DDD;\n",
              "  }\n",
              "\n",
              "  [theme=dark] .colab-df-quickchart {\n",
              "      --bg-color: #3B4455;\n",
              "      --fill-color: #D2E3FC;\n",
              "      --hover-bg-color: #434B5C;\n",
              "      --hover-fill-color: #FFFFFF;\n",
              "      --disabled-bg-color: #3B4455;\n",
              "      --disabled-fill-color: #666;\n",
              "  }\n",
              "\n",
              "  .colab-df-quickchart {\n",
              "    background-color: var(--bg-color);\n",
              "    border: none;\n",
              "    border-radius: 50%;\n",
              "    cursor: pointer;\n",
              "    display: none;\n",
              "    fill: var(--fill-color);\n",
              "    height: 32px;\n",
              "    padding: 0;\n",
              "    width: 32px;\n",
              "  }\n",
              "\n",
              "  .colab-df-quickchart:hover {\n",
              "    background-color: var(--hover-bg-color);\n",
              "    box-shadow: 0 1px 2px rgba(60, 64, 67, 0.3), 0 1px 3px 1px rgba(60, 64, 67, 0.15);\n",
              "    fill: var(--button-hover-fill-color);\n",
              "  }\n",
              "\n",
              "  .colab-df-quickchart-complete:disabled,\n",
              "  .colab-df-quickchart-complete:disabled:hover {\n",
              "    background-color: var(--disabled-bg-color);\n",
              "    fill: var(--disabled-fill-color);\n",
              "    box-shadow: none;\n",
              "  }\n",
              "\n",
              "  .colab-df-spinner {\n",
              "    border: 2px solid var(--fill-color);\n",
              "    border-color: transparent;\n",
              "    border-bottom-color: var(--fill-color);\n",
              "    animation:\n",
              "      spin 1s steps(1) infinite;\n",
              "  }\n",
              "\n",
              "  @keyframes spin {\n",
              "    0% {\n",
              "      border-color: transparent;\n",
              "      border-bottom-color: var(--fill-color);\n",
              "      border-left-color: var(--fill-color);\n",
              "    }\n",
              "    20% {\n",
              "      border-color: transparent;\n",
              "      border-left-color: var(--fill-color);\n",
              "      border-top-color: var(--fill-color);\n",
              "    }\n",
              "    30% {\n",
              "      border-color: transparent;\n",
              "      border-left-color: var(--fill-color);\n",
              "      border-top-color: var(--fill-color);\n",
              "      border-right-color: var(--fill-color);\n",
              "    }\n",
              "    40% {\n",
              "      border-color: transparent;\n",
              "      border-right-color: var(--fill-color);\n",
              "      border-top-color: var(--fill-color);\n",
              "    }\n",
              "    60% {\n",
              "      border-color: transparent;\n",
              "      border-right-color: var(--fill-color);\n",
              "    }\n",
              "    80% {\n",
              "      border-color: transparent;\n",
              "      border-right-color: var(--fill-color);\n",
              "      border-bottom-color: var(--fill-color);\n",
              "    }\n",
              "    90% {\n",
              "      border-color: transparent;\n",
              "      border-bottom-color: var(--fill-color);\n",
              "    }\n",
              "  }\n",
              "</style>\n",
              "\n",
              "  <script>\n",
              "    async function quickchart(key) {\n",
              "      const quickchartButtonEl =\n",
              "        document.querySelector('#' + key + ' button');\n",
              "      quickchartButtonEl.disabled = true;  // To prevent multiple clicks.\n",
              "      quickchartButtonEl.classList.add('colab-df-spinner');\n",
              "      try {\n",
              "        const charts = await google.colab.kernel.invokeFunction(\n",
              "            'suggestCharts', [key], {});\n",
              "      } catch (error) {\n",
              "        console.error('Error during call to suggestCharts:', error);\n",
              "      }\n",
              "      quickchartButtonEl.classList.remove('colab-df-spinner');\n",
              "      quickchartButtonEl.classList.add('colab-df-quickchart-complete');\n",
              "    }\n",
              "    (() => {\n",
              "      let quickchartButtonEl =\n",
              "        document.querySelector('#df-91700db6-dc09-461d-9d06-5e52236110d4 button');\n",
              "      quickchartButtonEl.style.display =\n",
              "        google.colab.kernel.accessAllowed ? 'block' : 'none';\n",
              "    })();\n",
              "  </script>\n",
              "</div>\n",
              "\n",
              "    </div>\n",
              "  </div>\n"
            ],
            "application/vnd.google.colaboratory.intrinsic+json": {
              "type": "dataframe",
              "variable_name": "student_data",
              "summary": "{\n  \"name\": \"student_data\",\n  \"rows\": 10,\n  \"fields\": [\n    {\n      \"column\": \"StudentID\",\n      \"properties\": {\n        \"dtype\": \"number\",\n        \"std\": 3,\n        \"min\": 1,\n        \"max\": 10,\n        \"num_unique_values\": 10,\n        \"samples\": [\n          9,\n          2,\n          6\n        ],\n        \"semantic_type\": \"\",\n        \"description\": \"\"\n      }\n    },\n    {\n      \"column\": \"Age\",\n      \"properties\": {\n        \"dtype\": \"number\",\n        \"std\": 13,\n        \"min\": 17,\n        \"max\": 54,\n        \"num_unique_values\": 10,\n        \"samples\": [\n          54,\n          51,\n          48\n        ],\n        \"semantic_type\": \"\",\n        \"description\": \"\"\n      }\n    },\n    {\n      \"column\": \"Tardies\",\n      \"properties\": {\n        \"dtype\": \"number\",\n        \"std\": 3,\n        \"min\": 0,\n        \"max\": 10,\n        \"num_unique_values\": 9,\n        \"samples\": [\n          0,\n          1,\n          2\n        ],\n        \"semantic_type\": \"\",\n        \"description\": \"\"\n      }\n    }\n  ]\n}"
            }
          },
          "metadata": {},
          "execution_count": 288
        }
      ]
    },
    {
      "cell_type": "markdown",
      "metadata": {
        "id": "SOAUGomQIybu"
      },
      "source": [
        "Draw a dispersion diagram (scatter plot) for the data.\n",
        "\n",
        "---\n",
        "\n"
      ]
    },
    {
      "cell_type": "code",
      "execution_count": 289,
      "metadata": {
        "colab": {
          "base_uri": "https://localhost:8080/",
          "height": 472
        },
        "id": "cQ5PUOq0Iybv",
        "outputId": "0a9ea007-740c-4fec-cc2e-144dfac746e2"
      },
      "outputs": [
        {
          "output_type": "display_data",
          "data": {
            "text/plain": [
              "<Figure size 640x480 with 1 Axes>"
            ],
            "image/png": "[encoded data removed]"
          },
          "metadata": {}
        }
      ],
      "source": [
        "# Your code here.\n",
        "sns.scatterplot(x='Age', y='Tardies', data=student_data)\n",
        "plt.title('Age vs Tardies')\n",
        "plt.show()"
      ]
    },
    {
      "cell_type": "markdown",
      "metadata": {
        "id": "SbCt3T5_Iybv"
      },
      "source": [
        "Do you see a trend? Can you make any hypotheses about the relationship between age and number of tardies?"
      ]
    },
    {
      "cell_type": "code",
      "execution_count": 290,
      "metadata": {
        "id": "N0wx3yYQIybv"
      },
      "outputs": [],
      "source": [
        "# Your response here.\n",
        "#According to the graph, there`s a strong stable tendency of decreasing number of Tradies lineraly correlated to the age.\n",
        "#MEaning, the older a pupil is, the less Tardies he has. There seems to be a straightforward (linear) raltionship between age&tardies\n",
        "#Though, I`m not sure if I`ve chosen the x and y correctly: should I predict TARDIES based on AGE or AGE based on TARDIES?\n",
        "#I`m predicting y = Tardies based on x = Age here."
      ]
    },
    {
      "cell_type": "markdown",
      "metadata": {
        "id": "W3YxPH9gIybv"
      },
      "source": [
        "Calculate the covariance and correlation of the variables in your plot. What is the difference between these two measures? Compare their values. What do they tell you in this case? Add your responses as comments after your code."
      ]
    },
    {
      "cell_type": "code",
      "execution_count": 291,
      "metadata": {
        "colab": {
          "base_uri": "https://localhost:8080/"
        },
        "id": "oMD9YB4IIybv",
        "outputId": "3b5550dd-3577-450b-c12d-512f3d109bb5"
      },
      "outputs": [
        {
          "output_type": "stream",
          "name": "stdout",
          "text": [
            "              Age   Tardies\n",
            "Age      1.000000 -0.939163\n",
            "Tardies -0.939163  1.000000\n",
            "                Age    Tardies\n",
            "Age      187.655556 -45.566667\n",
            "Tardies  -45.566667  12.544444\n"
          ]
        }
      ],
      "source": [
        "# Your response here.\n",
        "#correlation:\n",
        "correlation = student_data.corr()\n",
        "print(correlation)\n",
        "\n",
        "\n",
        "#covariance:\n",
        "covariance = student_data.cov()\n",
        "print(covariance)\n"
      ]
    },
    {
      "cell_type": "markdown",
      "source": [
        "# MY COMMENT:\n",
        "Correlation between Age and Tardies: -0.939\n",
        "This strong negative correlation indicates a strong inverse relationship between Age and Tardies.\n",
        "As Age increases, Tardies decreases, which is consistent with the plot and hypothesis.\n",
        "\n",
        "Covariance between Age and Tardies: -45.57\n",
        "This negative covariance indicates that as Age increases,\n",
        " Tardies tends to decrease, which aligns with observation from the plot.\n",
        "'''"
      ],
      "metadata": {
        "id": "-MGDg8bxW4dt"
      }
    },
    {
      "cell_type": "markdown",
      "metadata": {
        "id": "-iZkrJ-1Iybv"
      },
      "source": [
        "Build a regression model for this data. What will be your outcome variable? What type of regression are you using? Add your responses as comments after your code."
      ]
    },
    {
      "cell_type": "code",
      "execution_count": 292,
      "metadata": {
        "colab": {
          "base_uri": "https://localhost:8080/",
          "height": 75
        },
        "id": "HbWVcbwkIybw",
        "outputId": "4c1f884f-2a54-4e38-e02c-953c219ba91d"
      },
      "outputs": [
        {
          "output_type": "execute_result",
          "data": {
            "text/plain": [
              "LinearRegression()"
            ],
            "text/html": [
              "<style>#sk-container-id-25 {color: black;}#sk-container-id-25 pre{padding: 0;}#sk-container-id-25 div.sk-toggleable {background-color: white;}#sk-container-id-25 label.sk-toggleable__label {cursor: pointer;display: block;width: 100%;margin-bottom: 0;padding: 0.3em;box-sizing: border-box;text-align: center;}#sk-container-id-25 label.sk-toggleable__label-arrow:before {content: \"▸\";float: left;margin-right: 0.25em;color: #696969;}#sk-container-id-25 label.sk-toggleable__label-arrow:hover:before {color: black;}#sk-container-id-25 div.sk-estimator:hover label.sk-toggleable__label-arrow:before {color: black;}#sk-container-id-25 div.sk-toggleable__content {max-height: 0;max-width: 0;overflow: hidden;text-align: left;background-color: #f0f8ff;}#sk-container-id-25 div.sk-toggleable__content pre {margin: 0.2em;color: black;border-radius: 0.25em;background-color: #f0f8ff;}#sk-container-id-25 input.sk-toggleable__control:checked~div.sk-toggleable__content {max-height: 200px;max-width: 100%;overflow: auto;}#sk-container-id-25 input.sk-toggleable__control:checked~label.sk-toggleable__label-arrow:before {content: \"▾\";}#sk-container-id-25 div.sk-estimator input.sk-toggleable__control:checked~label.sk-toggleable__label {background-color: #d4ebff;}#sk-container-id-25 div.sk-label input.sk-toggleable__control:checked~label.sk-toggleable__label {background-color: #d4ebff;}#sk-container-id-25 input.sk-hidden--visually {border: 0;clip: rect(1px 1px 1px 1px);clip: rect(1px, 1px, 1px, 1px);height: 1px;margin: -1px;overflow: hidden;padding: 0;position: absolute;width: 1px;}#sk-container-id-25 div.sk-estimator {font-family: monospace;background-color: #f0f8ff;border: 1px dotted black;border-radius: 0.25em;box-sizing: border-box;margin-bottom: 0.5em;}#sk-container-id-25 div.sk-estimator:hover {background-color: #d4ebff;}#sk-container-id-25 div.sk-parallel-item::after {content: \"\";width: 100%;border-bottom: 1px solid gray;flex-grow: 1;}#sk-container-id-25 div.sk-label:hover label.sk-toggleable__label {background-color: #d4ebff;}#sk-container-id-25 div.sk-serial::before {content: \"\";position: absolute;border-left: 1px solid gray;box-sizing: border-box;top: 0;bottom: 0;left: 50%;z-index: 0;}#sk-container-id-25 div.sk-serial {display: flex;flex-direction: column;align-items: center;background-color: white;padding-right: 0.2em;padding-left: 0.2em;position: relative;}#sk-container-id-25 div.sk-item {position: relative;z-index: 1;}#sk-container-id-25 div.sk-parallel {display: flex;align-items: stretch;justify-content: center;background-color: white;position: relative;}#sk-container-id-25 div.sk-item::before, #sk-container-id-25 div.sk-parallel-item::before {content: \"\";position: absolute;border-left: 1px solid gray;box-sizing: border-box;top: 0;bottom: 0;left: 50%;z-index: -1;}#sk-container-id-25 div.sk-parallel-item {display: flex;flex-direction: column;z-index: 1;position: relative;background-color: white;}#sk-container-id-25 div.sk-parallel-item:first-child::after {align-self: flex-end;width: 50%;}#sk-container-id-25 div.sk-parallel-item:last-child::after {align-self: flex-start;width: 50%;}#sk-container-id-25 div.sk-parallel-item:only-child::after {width: 0;}#sk-container-id-25 div.sk-dashed-wrapped {border: 1px dashed gray;margin: 0 0.4em 0.5em 0.4em;box-sizing: border-box;padding-bottom: 0.4em;background-color: white;}#sk-container-id-25 div.sk-label label {font-family: monospace;font-weight: bold;display: inline-block;line-height: 1.2em;}#sk-container-id-25 div.sk-label-container {text-align: center;}#sk-container-id-25 div.sk-container {/* jupyter's `normalize.less` sets `[hidden] { display: none; }` but bootstrap.min.css set `[hidden] { display: none !important; }` so we also need the `!important` here to be able to override the default hidden behavior on the sphinx rendered scikit-learn.org. See: https://github.com/scikit-learn/scikit-learn/issues/21755 */display: inline-block !important;position: relative;}#sk-container-id-25 div.sk-text-repr-fallback {display: none;}</style><div id=\"sk-container-id-25\" class=\"sk-top-container\"><div class=\"sk-text-repr-fallback\"><pre>LinearRegression()</pre><b>In a Jupyter environment, please rerun this cell to show the HTML representation or trust the notebook. <br />On GitHub, the HTML representation is unable to render, please try loading this page with nbviewer.org.</b></div><div class=\"sk-container\" hidden><div class=\"sk-item\"><div class=\"sk-estimator sk-toggleable\"><input class=\"sk-toggleable__control sk-hidden--visually\" id=\"sk-estimator-id-25\" type=\"checkbox\" checked><label for=\"sk-estimator-id-25\" class=\"sk-toggleable__label sk-toggleable__label-arrow\">LinearRegression</label><div class=\"sk-toggleable__content\"><pre>LinearRegression()</pre></div></div></div></div></div>"
            ]
          },
          "metadata": {},
          "execution_count": 292
        }
      ],
      "source": [
        "# Your response here.\n",
        "# Split data into training and testing sets\n",
        "X = student_data.drop('Tardies', axis=1)  # Features (all columns except 'Tardies')\n",
        "y = student_data['Tardies']  # Outcome variable\n",
        "X_train, X_test, y_train, y_test = train_test_split(X, y, test_size=0.2, random_state=42)\n",
        "\n",
        "# Fit the model to the training data\n",
        "model =  LinearRegression()\n",
        "model.fit(X_train, y_train)"
      ]
    },
    {
      "cell_type": "code",
      "source": [
        "# Output the coefficients and intercept\n",
        "print(\"Model Coefficients:\", model.coef_)\n",
        "print(\"Model Intercept:\", model.intercept_)"
      ],
      "metadata": {
        "colab": {
          "base_uri": "https://localhost:8080/"
        },
        "id": "3ajFufTOhFfi",
        "outputId": "b56e94a6-668d-48c1-dae3-1b367ec1c64e"
      },
      "execution_count": 293,
      "outputs": [
        {
          "output_type": "stream",
          "name": "stdout",
          "text": [
            "Model Coefficients: [-0.26657459]\n",
            "Model Intercept: 13.46408839779005\n"
          ]
        }
      ]
    },
    {
      "cell_type": "markdown",
      "source": [
        "### **Interpretation**:\n",
        "Model Coefficients\n",
        "\n",
        "Model Coefficient (Age): -0.2666\n",
        "This value indicates that for each additional year of age, the number of tardies is expected to decrease by approximately 0.2666. This suggests a negative relationship between age and tardies, meaning older students tend to be less tardy.\n",
        "\n",
        "Model Intercept\n",
        "\n",
        "Model Intercept: 13.4641\n",
        "This is the estimated number of tardies when age is 0. Although age 0 is not realistic in this context, the intercept helps define the position of the regression line on the y-axis."
      ],
      "metadata": {
        "id": "G5lu_IIfmJuP"
      }
    },
    {
      "cell_type": "code",
      "source": [
        "from sklearn.metrics import mean_squared_error, r2_score\n",
        "\n",
        "# Make predictions on the test set\n",
        "y_pred = model.predict(X_test)\n",
        "\n",
        "# Evaluate the model\n",
        "mse = mean_squared_error(y_test, y_pred)\n",
        "r2 = r2_score(y_test, y_pred)\n",
        "\n",
        "print(\"Mean Squared Error:\", mse)\n",
        "print(\"R² Score:\", r2)\n"
      ],
      "metadata": {
        "colab": {
          "base_uri": "https://localhost:8080/"
        },
        "id": "0crFwxSplpNd",
        "outputId": "2165af2a-4243-492d-d675-c012a6828c8e"
      },
      "execution_count": 294,
      "outputs": [
        {
          "output_type": "stream",
          "name": "stdout",
          "text": [
            "Mean Squared Error: 1.073148141082379\n",
            "R² Score: -3.2925925643295164\n"
          ]
        }
      ]
    },
    {
      "cell_type": "markdown",
      "source": [
        "# Interpretation\n",
        "\n",
        "Mean Squared Error (MSE)\n",
        "\n",
        "Mean Squared Error: 1.0731\n",
        "The MSE measures the average squared difference between actual and predicted values. A lower MSE indicates better model performance. In this case, an MSE of 1.0731 suggests that on average, the squared differences between predicted and actual tardies are relatively small.\n",
        "\n",
        "R² Score\n",
        "\n",
        "R² Score: -3.2926\n",
        "The R² score indicates how well the model explains the variability of the outcome variable. The R² score can range from 0 to 1 for models that fit the data well, and can be negative for models that fit worse than a simple mean-based model. A negative R² score indicates that the model does not explain the variability in the data well and is performing worse than a simple mean-based model."
      ],
      "metadata": {
        "id": "nPciQBHbnHYS"
      }
    },
    {
      "cell_type": "markdown",
      "metadata": {
        "id": "kkDjG1gWIybw"
      },
      "source": [
        "Plot your regression model on your scatter plot."
      ]
    },
    {
      "cell_type": "code",
      "execution_count": 295,
      "metadata": {
        "colab": {
          "base_uri": "https://localhost:8080/",
          "height": 472
        },
        "id": "_pQVD4-pIybw",
        "outputId": "13a5d0d5-68e5-4e1e-b27a-e3b9554107ae"
      },
      "outputs": [
        {
          "output_type": "display_data",
          "data": {
            "text/plain": [
              "<Figure size 640x480 with 1 Axes>"
            ],
            "image/png": "[encoded data removed]"
          },
          "metadata": {}
        }
      ],
      "source": [
        "# Your code here.\n",
        "sns.scatterplot(x='Age', y='Tardies', data=student_data)\n",
        "plt.title('Age vs Tardies')\n",
        "plt.plot(X_train, model.predict(X_train), color='red')\n",
        "plt.show()\n"
      ]
    },
    {
      "cell_type": "markdown",
      "metadata": {
        "id": "twKAJE-FIybw"
      },
      "source": [
        "Interpret the results of your model. What can conclusions can you draw from your model and how confident in these conclusions are you? Can we say that age is a good predictor of tardiness? Add your responses as comments after your code."
      ]
    },
    {
      "cell_type": "code",
      "execution_count": 296,
      "metadata": {
        "id": "njbaRymDIybw"
      },
      "outputs": [],
      "source": [
        "# Your response here.\n",
        "#Age has a negative coefficient, indicating a trend that older students tend to be less tardy.\n",
        "#The R² score is negative, suggesting the model does not explain the variability in tardies effectively.\n",
        "#MSE is relatively low but not sufficient to indicate good model performance due to the negative R² score.\n",
        "#Overall, age is not a strong predictor of tardiness based on this model.\n",
        "#To improve predictions, consider including additional features or exploring other types of models."
      ]
    },
    {
      "cell_type": "markdown",
      "metadata": {
        "id": "aPktEtYOIybw"
      },
      "source": [
        "## Challenge 2\n",
        "For the second part of this lab, we will use the vehicles.csv data set. You can find a copy of the dataset in the git hub folder. This dataset includes variables related to vehicle characteristics, including the model, make, and energy efficiency standards, as well as each car's CO2 emissions. As discussed in class the goal of this exercise is to predict vehicles' CO2 emissions based on several independent variables."
      ]
    },
    {
      "cell_type": "code",
      "execution_count": 297,
      "metadata": {
        "colab": {
          "base_uri": "https://localhost:8080/",
          "height": 554
        },
        "id": "wKawc3UyIybw",
        "outputId": "3077ca07-56d6-4ee5-dd78-3b96f746be6a"
      },
      "outputs": [
        {
          "output_type": "execute_result",
          "data": {
            "text/plain": [
              "               Make                Model  Year  Engine Displacement  \\\n",
              "0        AM General    DJ Po Vehicle 2WD  1984                  2.5   \n",
              "1        AM General     FJ8c Post Office  1984                  4.2   \n",
              "2        AM General  Post Office DJ5 2WD  1985                  2.5   \n",
              "3        AM General  Post Office DJ8 2WD  1985                  4.2   \n",
              "4  ASC Incorporated                  GNX  1987                  3.8   \n",
              "5             Acura          2.2CL/3.0CL  1997                  2.2   \n",
              "6             Acura          2.2CL/3.0CL  1997                  2.2   \n",
              "7             Acura          2.2CL/3.0CL  1997                  3.0   \n",
              "8             Acura          2.3CL/3.0CL  1998                  2.3   \n",
              "9             Acura          2.3CL/3.0CL  1998                  2.3   \n",
              "\n",
              "   Cylinders     Transmission         Drivetrain                Vehicle Class  \\\n",
              "0        4.0  Automatic 3-spd      2-Wheel Drive  Special Purpose Vehicle 2WD   \n",
              "1        6.0  Automatic 3-spd      2-Wheel Drive  Special Purpose Vehicle 2WD   \n",
              "2        4.0  Automatic 3-spd   Rear-Wheel Drive  Special Purpose Vehicle 2WD   \n",
              "3        6.0  Automatic 3-spd   Rear-Wheel Drive  Special Purpose Vehicle 2WD   \n",
              "4        6.0  Automatic 4-spd   Rear-Wheel Drive                 Midsize Cars   \n",
              "5        4.0  Automatic 4-spd  Front-Wheel Drive              Subcompact Cars   \n",
              "6        4.0     Manual 5-spd  Front-Wheel Drive              Subcompact Cars   \n",
              "7        6.0  Automatic 4-spd  Front-Wheel Drive              Subcompact Cars   \n",
              "8        4.0  Automatic 4-spd  Front-Wheel Drive              Subcompact Cars   \n",
              "9        4.0     Manual 5-spd  Front-Wheel Drive              Subcompact Cars   \n",
              "\n",
              "  Fuel Type  Fuel Barrels/Year  City MPG  Highway MPG  Combined MPG  \\\n",
              "0   Regular          19.388824        18           17            17   \n",
              "1   Regular          25.354615        13           13            13   \n",
              "2   Regular          20.600625        16           17            16   \n",
              "3   Regular          25.354615        13           13            13   \n",
              "4   Premium          20.600625        14           21            16   \n",
              "5   Regular          14.982273        20           26            22   \n",
              "6   Regular          13.733750        22           28            24   \n",
              "7   Regular          16.480500        18           26            20   \n",
              "8   Regular          14.982273        19           27            22   \n",
              "9   Regular          13.733750        21           29            24   \n",
              "\n",
              "   CO2 Emission Grams/Mile  Fuel Cost/Year  \n",
              "0               522.764706            1950  \n",
              "1               683.615385            2550  \n",
              "2               555.437500            2100  \n",
              "3               683.615385            2550  \n",
              "4               555.437500            2550  \n",
              "5               403.954545            1500  \n",
              "6               370.291667            1400  \n",
              "7               444.350000            1650  \n",
              "8               403.954545            1500  \n",
              "9               370.291667            1400  "
            ],
            "text/html": [
              "\n",
              "  <div id=\"df-2b343662-c34a-4865-bf6f-9a491509b7b2\" class=\"colab-df-container\">\n",
              "    <div>\n",
              "<style scoped>\n",
              "    .dataframe tbody tr th:only-of-type {\n",
              "        vertical-align: middle;\n",
              "    }\n",
              "\n",
              "    .dataframe tbody tr th {\n",
              "        vertical-align: top;\n",
              "    }\n",
              "\n",
              "    .dataframe thead th {\n",
              "        text-align: right;\n",
              "    }\n",
              "</style>\n",
              "<table border=\"1\" class=\"dataframe\">\n",
              "  <thead>\n",
              "    <tr style=\"text-align: right;\">\n",
              "      <th></th>\n",
              "      <th>Make</th>\n",
              "      <th>Model</th>\n",
              "      <th>Year</th>\n",
              "      <th>Engine Displacement</th>\n",
              "      <th>Cylinders</th>\n",
              "      <th>Transmission</th>\n",
              "      <th>Drivetrain</th>\n",
              "      <th>Vehicle Class</th>\n",
              "      <th>Fuel Type</th>\n",
              "      <th>Fuel Barrels/Year</th>\n",
              "      <th>City MPG</th>\n",
              "      <th>Highway MPG</th>\n",
              "      <th>Combined MPG</th>\n",
              "      <th>CO2 Emission Grams/Mile</th>\n",
              "      <th>Fuel Cost/Year</th>\n",
              "    </tr>\n",
              "  </thead>\n",
              "  <tbody>\n",
              "    <tr>\n",
              "      <th>0</th>\n",
              "      <td>AM General</td>\n",
              "      <td>DJ Po Vehicle 2WD</td>\n",
              "      <td>1984</td>\n",
              "      <td>2.5</td>\n",
              "      <td>4.0</td>\n",
              "      <td>Automatic 3-spd</td>\n",
              "      <td>2-Wheel Drive</td>\n",
              "      <td>Special Purpose Vehicle 2WD</td>\n",
              "      <td>Regular</td>\n",
              "      <td>19.388824</td>\n",
              "      <td>18</td>\n",
              "      <td>17</td>\n",
              "      <td>17</td>\n",
              "      <td>522.764706</td>\n",
              "      <td>1950</td>\n",
              "    </tr>\n",
              "    <tr>\n",
              "      <th>1</th>\n",
              "      <td>AM General</td>\n",
              "      <td>FJ8c Post Office</td>\n",
              "      <td>1984</td>\n",
              "      <td>4.2</td>\n",
              "      <td>6.0</td>\n",
              "      <td>Automatic 3-spd</td>\n",
              "      <td>2-Wheel Drive</td>\n",
              "      <td>Special Purpose Vehicle 2WD</td>\n",
              "      <td>Regular</td>\n",
              "      <td>25.354615</td>\n",
              "      <td>13</td>\n",
              "      <td>13</td>\n",
              "      <td>13</td>\n",
              "      <td>683.615385</td>\n",
              "      <td>2550</td>\n",
              "    </tr>\n",
              "    <tr>\n",
              "      <th>2</th>\n",
              "      <td>AM General</td>\n",
              "      <td>Post Office DJ5 2WD</td>\n",
              "      <td>1985</td>\n",
              "      <td>2.5</td>\n",
              "      <td>4.0</td>\n",
              "      <td>Automatic 3-spd</td>\n",
              "      <td>Rear-Wheel Drive</td>\n",
              "      <td>Special Purpose Vehicle 2WD</td>\n",
              "      <td>Regular</td>\n",
              "      <td>20.600625</td>\n",
              "      <td>16</td>\n",
              "      <td>17</td>\n",
              "      <td>16</td>\n",
              "      <td>555.437500</td>\n",
              "      <td>2100</td>\n",
              "    </tr>\n",
              "    <tr>\n",
              "      <th>3</th>\n",
              "      <td>AM General</td>\n",
              "      <td>Post Office DJ8 2WD</td>\n",
              "      <td>1985</td>\n",
              "      <td>4.2</td>\n",
              "      <td>6.0</td>\n",
              "      <td>Automatic 3-spd</td>\n",
              "      <td>Rear-Wheel Drive</td>\n",
              "      <td>Special Purpose Vehicle 2WD</td>\n",
              "      <td>Regular</td>\n",
              "      <td>25.354615</td>\n",
              "      <td>13</td>\n",
              "      <td>13</td>\n",
              "      <td>13</td>\n",
              "      <td>683.615385</td>\n",
              "      <td>2550</td>\n",
              "    </tr>\n",
              "    <tr>\n",
              "      <th>4</th>\n",
              "      <td>ASC Incorporated</td>\n",
              "      <td>GNX</td>\n",
              "      <td>1987</td>\n",
              "      <td>3.8</td>\n",
              "      <td>6.0</td>\n",
              "      <td>Automatic 4-spd</td>\n",
              "      <td>Rear-Wheel Drive</td>\n",
              "      <td>Midsize Cars</td>\n",
              "      <td>Premium</td>\n",
              "      <td>20.600625</td>\n",
              "      <td>14</td>\n",
              "      <td>21</td>\n",
              "      <td>16</td>\n",
              "      <td>555.437500</td>\n",
              "      <td>2550</td>\n",
              "    </tr>\n",
              "    <tr>\n",
              "      <th>5</th>\n",
              "      <td>Acura</td>\n",
              "      <td>2.2CL/3.0CL</td>\n",
              "      <td>1997</td>\n",
              "      <td>2.2</td>\n",
              "      <td>4.0</td>\n",
              "      <td>Automatic 4-spd</td>\n",
              "      <td>Front-Wheel Drive</td>\n",
              "      <td>Subcompact Cars</td>\n",
              "      <td>Regular</td>\n",
              "      <td>14.982273</td>\n",
              "      <td>20</td>\n",
              "      <td>26</td>\n",
              "      <td>22</td>\n",
              "      <td>403.954545</td>\n",
              "      <td>1500</td>\n",
              "    </tr>\n",
              "    <tr>\n",
              "      <th>6</th>\n",
              "      <td>Acura</td>\n",
              "      <td>2.2CL/3.0CL</td>\n",
              "      <td>1997</td>\n",
              "      <td>2.2</td>\n",
              "      <td>4.0</td>\n",
              "      <td>Manual 5-spd</td>\n",
              "      <td>Front-Wheel Drive</td>\n",
              "      <td>Subcompact Cars</td>\n",
              "      <td>Regular</td>\n",
              "      <td>13.733750</td>\n",
              "      <td>22</td>\n",
              "      <td>28</td>\n",
              "      <td>24</td>\n",
              "      <td>370.291667</td>\n",
              "      <td>1400</td>\n",
              "    </tr>\n",
              "    <tr>\n",
              "      <th>7</th>\n",
              "      <td>Acura</td>\n",
              "      <td>2.2CL/3.0CL</td>\n",
              "      <td>1997</td>\n",
              "      <td>3.0</td>\n",
              "      <td>6.0</td>\n",
              "      <td>Automatic 4-spd</td>\n",
              "      <td>Front-Wheel Drive</td>\n",
              "      <td>Subcompact Cars</td>\n",
              "      <td>Regular</td>\n",
              "      <td>16.480500</td>\n",
              "      <td>18</td>\n",
              "      <td>26</td>\n",
              "      <td>20</td>\n",
              "      <td>444.350000</td>\n",
              "      <td>1650</td>\n",
              "    </tr>\n",
              "    <tr>\n",
              "      <th>8</th>\n",
              "      <td>Acura</td>\n",
              "      <td>2.3CL/3.0CL</td>\n",
              "      <td>1998</td>\n",
              "      <td>2.3</td>\n",
              "      <td>4.0</td>\n",
              "      <td>Automatic 4-spd</td>\n",
              "      <td>Front-Wheel Drive</td>\n",
              "      <td>Subcompact Cars</td>\n",
              "      <td>Regular</td>\n",
              "      <td>14.982273</td>\n",
              "      <td>19</td>\n",
              "      <td>27</td>\n",
              "      <td>22</td>\n",
              "      <td>403.954545</td>\n",
              "      <td>1500</td>\n",
              "    </tr>\n",
              "    <tr>\n",
              "      <th>9</th>\n",
              "      <td>Acura</td>\n",
              "      <td>2.3CL/3.0CL</td>\n",
              "      <td>1998</td>\n",
              "      <td>2.3</td>\n",
              "      <td>4.0</td>\n",
              "      <td>Manual 5-spd</td>\n",
              "      <td>Front-Wheel Drive</td>\n",
              "      <td>Subcompact Cars</td>\n",
              "      <td>Regular</td>\n",
              "      <td>13.733750</td>\n",
              "      <td>21</td>\n",
              "      <td>29</td>\n",
              "      <td>24</td>\n",
              "      <td>370.291667</td>\n",
              "      <td>1400</td>\n",
              "    </tr>\n",
              "  </tbody>\n",
              "</table>\n",
              "</div>\n",
              "    <div class=\"colab-df-buttons\">\n",
              "\n",
              "  <div class=\"colab-df-container\">\n",
              "    <button class=\"colab-df-convert\" onclick=\"convertToInteractive('df-2b343662-c34a-4865-bf6f-9a491509b7b2')\"\n",
              "            title=\"Convert this dataframe to an interactive table.\"\n",
              "            style=\"display:none;\">\n",
              "\n",
              "  <svg xmlns=\"http://www.w3.org/2000/svg\" height=\"24px\" viewBox=\"0 -960 960 960\">\n",
              "    <path d=\"M120-120v-720h720v720H120Zm60-500h600v-160H180v160Zm220 220h160v-160H400v160Zm0 220h160v-160H400v160ZM180-400h160v-160H180v160Zm440 0h160v-160H620v160ZM180-180h160v-160H180v160Zm440 0h160v-160H620v160Z\"/>\n",
              "  </svg>\n",
              "    </button>\n",
              "\n",
              "  <style>\n",
              "    .colab-df-container {\n",
              "      display:flex;\n",
              "      gap: 12px;\n",
              "    }\n",
              "\n",
              "    .colab-df-convert {\n",
              "      background-color: #E8F0FE;\n",
              "      border: none;\n",
              "      border-radius: 50%;\n",
              "      cursor: pointer;\n",
              "      display: none;\n",
              "      fill: #1967D2;\n",
              "      height: 32px;\n",
              "      padding: 0 0 0 0;\n",
              "      width: 32px;\n",
              "    }\n",
              "\n",
              "    .colab-df-convert:hover {\n",
              "      background-color: #E2EBFA;\n",
              "      box-shadow: 0px 1px 2px rgba(60, 64, 67, 0.3), 0px 1px 3px 1px rgba(60, 64, 67, 0.15);\n",
              "      fill: #174EA6;\n",
              "    }\n",
              "\n",
              "    .colab-df-buttons div {\n",
              "      margin-bottom: 4px;\n",
              "    }\n",
              "\n",
              "    [theme=dark] .colab-df-convert {\n",
              "      background-color: #3B4455;\n",
              "      fill: #D2E3FC;\n",
              "    }\n",
              "\n",
              "    [theme=dark] .colab-df-convert:hover {\n",
              "      background-color: #434B5C;\n",
              "      box-shadow: 0px 1px 3px 1px rgba(0, 0, 0, 0.15);\n",
              "      filter: drop-shadow(0px 1px 2px rgba(0, 0, 0, 0.3));\n",
              "      fill: #FFFFFF;\n",
              "    }\n",
              "  </style>\n",
              "\n",
              "    <script>\n",
              "      const buttonEl =\n",
              "        document.querySelector('#df-2b343662-c34a-4865-bf6f-9a491509b7b2 button.colab-df-convert');\n",
              "      buttonEl.style.display =\n",
              "        google.colab.kernel.accessAllowed ? 'block' : 'none';\n",
              "\n",
              "      async function convertToInteractive(key) {\n",
              "        const element = document.querySelector('#df-2b343662-c34a-4865-bf6f-9a491509b7b2');\n",
              "        const dataTable =\n",
              "          await google.colab.kernel.invokeFunction('convertToInteractive',\n",
              "                                                    [key], {});\n",
              "        if (!dataTable) return;\n",
              "\n",
              "        const docLinkHtml = 'Like what you see? Visit the ' +\n",
              "          '<a target=\"_blank\" href=https://colab.research.google.com/notebooks/data_table.ipynb>data table notebook</a>'\n",
              "          + ' to learn more about interactive tables.';\n",
              "        element.innerHTML = '';\n",
              "        dataTable['output_type'] = 'display_data';\n",
              "        await google.colab.output.renderOutput(dataTable, element);\n",
              "        const docLink = document.createElement('div');\n",
              "        docLink.innerHTML = docLinkHtml;\n",
              "        element.appendChild(docLink);\n",
              "      }\n",
              "    </script>\n",
              "  </div>\n",
              "\n",
              "\n",
              "<div id=\"df-c42d385a-f5fb-4456-a192-cef776c4153d\">\n",
              "  <button class=\"colab-df-quickchart\" onclick=\"quickchart('df-c42d385a-f5fb-4456-a192-cef776c4153d')\"\n",
              "            title=\"Suggest charts\"\n",
              "            style=\"display:none;\">\n",
              "\n",
              "<svg xmlns=\"http://www.w3.org/2000/svg\" height=\"24px\"viewBox=\"0 0 24 24\"\n",
              "     width=\"24px\">\n",
              "    <g>\n",
              "        <path d=\"M19 3H5c-1.1 0-2 .9-2 2v14c0 1.1.9 2 2 2h14c1.1 0 2-.9 2-2V5c0-1.1-.9-2-2-2zM9 17H7v-7h2v7zm4 0h-2V7h2v10zm4 0h-2v-4h2v4z\"/>\n",
              "    </g>\n",
              "</svg>\n",
              "  </button>\n",
              "\n",
              "<style>\n",
              "  .colab-df-quickchart {\n",
              "      --bg-color: #E8F0FE;\n",
              "      --fill-color: #1967D2;\n",
              "      --hover-bg-color: #E2EBFA;\n",
              "      --hover-fill-color: #174EA6;\n",
              "      --disabled-fill-color: #AAA;\n",
              "      --disabled-bg-color: #DDD;\n",
              "  }\n",
              "\n",
              "  [theme=dark] .colab-df-quickchart {\n",
              "      --bg-color: #3B4455;\n",
              "      --fill-color: #D2E3FC;\n",
              "      --hover-bg-color: #434B5C;\n",
              "      --hover-fill-color: #FFFFFF;\n",
              "      --disabled-bg-color: #3B4455;\n",
              "      --disabled-fill-color: #666;\n",
              "  }\n",
              "\n",
              "  .colab-df-quickchart {\n",
              "    background-color: var(--bg-color);\n",
              "    border: none;\n",
              "    border-radius: 50%;\n",
              "    cursor: pointer;\n",
              "    display: none;\n",
              "    fill: var(--fill-color);\n",
              "    height: 32px;\n",
              "    padding: 0;\n",
              "    width: 32px;\n",
              "  }\n",
              "\n",
              "  .colab-df-quickchart:hover {\n",
              "    background-color: var(--hover-bg-color);\n",
              "    box-shadow: 0 1px 2px rgba(60, 64, 67, 0.3), 0 1px 3px 1px rgba(60, 64, 67, 0.15);\n",
              "    fill: var(--button-hover-fill-color);\n",
              "  }\n",
              "\n",
              "  .colab-df-quickchart-complete:disabled,\n",
              "  .colab-df-quickchart-complete:disabled:hover {\n",
              "    background-color: var(--disabled-bg-color);\n",
              "    fill: var(--disabled-fill-color);\n",
              "    box-shadow: none;\n",
              "  }\n",
              "\n",
              "  .colab-df-spinner {\n",
              "    border: 2px solid var(--fill-color);\n",
              "    border-color: transparent;\n",
              "    border-bottom-color: var(--fill-color);\n",
              "    animation:\n",
              "      spin 1s steps(1) infinite;\n",
              "  }\n",
              "\n",
              "  @keyframes spin {\n",
              "    0% {\n",
              "      border-color: transparent;\n",
              "      border-bottom-color: var(--fill-color);\n",
              "      border-left-color: var(--fill-color);\n",
              "    }\n",
              "    20% {\n",
              "      border-color: transparent;\n",
              "      border-left-color: var(--fill-color);\n",
              "      border-top-color: var(--fill-color);\n",
              "    }\n",
              "    30% {\n",
              "      border-color: transparent;\n",
              "      border-left-color: var(--fill-color);\n",
              "      border-top-color: var(--fill-color);\n",
              "      border-right-color: var(--fill-color);\n",
              "    }\n",
              "    40% {\n",
              "      border-color: transparent;\n",
              "      border-right-color: var(--fill-color);\n",
              "      border-top-color: var(--fill-color);\n",
              "    }\n",
              "    60% {\n",
              "      border-color: transparent;\n",
              "      border-right-color: var(--fill-color);\n",
              "    }\n",
              "    80% {\n",
              "      border-color: transparent;\n",
              "      border-right-color: var(--fill-color);\n",
              "      border-bottom-color: var(--fill-color);\n",
              "    }\n",
              "    90% {\n",
              "      border-color: transparent;\n",
              "      border-bottom-color: var(--fill-color);\n",
              "    }\n",
              "  }\n",
              "</style>\n",
              "\n",
              "  <script>\n",
              "    async function quickchart(key) {\n",
              "      const quickchartButtonEl =\n",
              "        document.querySelector('#' + key + ' button');\n",
              "      quickchartButtonEl.disabled = true;  // To prevent multiple clicks.\n",
              "      quickchartButtonEl.classList.add('colab-df-spinner');\n",
              "      try {\n",
              "        const charts = await google.colab.kernel.invokeFunction(\n",
              "            'suggestCharts', [key], {});\n",
              "      } catch (error) {\n",
              "        console.error('Error during call to suggestCharts:', error);\n",
              "      }\n",
              "      quickchartButtonEl.classList.remove('colab-df-spinner');\n",
              "      quickchartButtonEl.classList.add('colab-df-quickchart-complete');\n",
              "    }\n",
              "    (() => {\n",
              "      let quickchartButtonEl =\n",
              "        document.querySelector('#df-c42d385a-f5fb-4456-a192-cef776c4153d button');\n",
              "      quickchartButtonEl.style.display =\n",
              "        google.colab.kernel.accessAllowed ? 'block' : 'none';\n",
              "    })();\n",
              "  </script>\n",
              "</div>\n",
              "\n",
              "    </div>\n",
              "  </div>\n"
            ],
            "application/vnd.google.colaboratory.intrinsic+json": {
              "type": "dataframe",
              "variable_name": "df",
              "summary": "{\n  \"name\": \"df\",\n  \"rows\": 35952,\n  \"fields\": [\n    {\n      \"column\": \"Make\",\n      \"properties\": {\n        \"dtype\": \"category\",\n        \"num_unique_values\": 127,\n        \"samples\": [\n          \"Daihatsu\",\n          \"Subaru\",\n          \"Oldsmobile\"\n        ],\n        \"semantic_type\": \"\",\n        \"description\": \"\"\n      }\n    },\n    {\n      \"column\": \"Model\",\n      \"properties\": {\n        \"dtype\": \"category\",\n        \"num_unique_values\": 3608,\n        \"samples\": [\n          \"Panamera Turbo S\",\n          \"62 S\",\n          \"LS 400\"\n        ],\n        \"semantic_type\": \"\",\n        \"description\": \"\"\n      }\n    },\n    {\n      \"column\": \"Year\",\n      \"properties\": {\n        \"dtype\": \"number\",\n        \"std\": 10,\n        \"min\": 1984,\n        \"max\": 2017,\n        \"num_unique_values\": 34,\n        \"samples\": [\n          2015,\n          1988,\n          2006\n        ],\n        \"semantic_type\": \"\",\n        \"description\": \"\"\n      }\n    },\n    {\n      \"column\": \"Engine Displacement\",\n      \"properties\": {\n        \"dtype\": \"number\",\n        \"std\": 1.359395386286269,\n        \"min\": 0.6,\n        \"max\": 8.4,\n        \"num_unique_values\": 65,\n        \"samples\": [\n          1.3,\n          5.5,\n          2.5\n        ],\n        \"semantic_type\": \"\",\n        \"description\": \"\"\n      }\n    },\n    {\n      \"column\": \"Cylinders\",\n      \"properties\": {\n        \"dtype\": \"number\",\n        \"std\": 1.7552682317646655,\n        \"min\": 2.0,\n        \"max\": 16.0,\n        \"num_unique_values\": 9,\n        \"samples\": [\n          3.0,\n          6.0,\n          10.0\n        ],\n        \"semantic_type\": \"\",\n        \"description\": \"\"\n      }\n    },\n    {\n      \"column\": \"Transmission\",\n      \"properties\": {\n        \"dtype\": \"category\",\n        \"num_unique_values\": 45,\n        \"samples\": [\n          \"Auto (AV-S8)\",\n          \"Automatic (AM6)\",\n          \"Automatic 8-spd\"\n        ],\n        \"semantic_type\": \"\",\n        \"description\": \"\"\n      }\n    },\n    {\n      \"column\": \"Drivetrain\",\n      \"properties\": {\n        \"dtype\": \"category\",\n        \"num_unique_values\": 8,\n        \"samples\": [\n          \"Rear-Wheel Drive\",\n          \"4-Wheel Drive\",\n          \"2-Wheel Drive\"\n        ],\n        \"semantic_type\": \"\",\n        \"description\": \"\"\n      }\n    },\n    {\n      \"column\": \"Vehicle Class\",\n      \"properties\": {\n        \"dtype\": \"category\",\n        \"num_unique_values\": 34,\n        \"samples\": [\n          \"Large Cars\",\n          \"Minivan - 2WD\",\n          \"Standard Pickup Trucks 4WD\"\n        ],\n        \"semantic_type\": \"\",\n        \"description\": \"\"\n      }\n    },\n    {\n      \"column\": \"Fuel Type\",\n      \"properties\": {\n        \"dtype\": \"category\",\n        \"num_unique_values\": 13,\n        \"samples\": [\n          \"Regular Gas and Electricity\",\n          \"Regular Gas or Electricity\",\n          \"Regular\"\n        ],\n        \"semantic_type\": \"\",\n        \"description\": \"\"\n      }\n    },\n    {\n      \"column\": \"Fuel Barrels/Year\",\n      \"properties\": {\n        \"dtype\": \"number\",\n        \"std\": 4.467282686296915,\n        \"min\": 0.06,\n        \"max\": 47.08714285714285,\n        \"num_unique_values\": 123,\n        \"samples\": [\n          27.4675,\n          7.356924277610839,\n          18.19928571428572\n        ],\n        \"semantic_type\": \"\",\n        \"description\": \"\"\n      }\n    },\n    {\n      \"column\": \"City MPG\",\n      \"properties\": {\n        \"dtype\": \"number\",\n        \"std\": 4,\n        \"min\": 6,\n        \"max\": 58,\n        \"num_unique_values\": 48,\n        \"samples\": [\n          32,\n          50,\n          27\n        ],\n        \"semantic_type\": \"\",\n        \"description\": \"\"\n      }\n    },\n    {\n      \"column\": \"Highway MPG\",\n      \"properties\": {\n        \"dtype\": \"number\",\n        \"std\": 5,\n        \"min\": 9,\n        \"max\": 61,\n        \"num_unique_values\": 49,\n        \"samples\": [\n          38,\n          61,\n          59\n        ],\n        \"semantic_type\": \"\",\n        \"description\": \"\"\n      }\n    },\n    {\n      \"column\": \"Combined MPG\",\n      \"properties\": {\n        \"dtype\": \"number\",\n        \"std\": 5,\n        \"min\": 7,\n        \"max\": 56,\n        \"num_unique_values\": 46,\n        \"samples\": [\n          44,\n          35,\n          39\n        ],\n        \"semantic_type\": \"\",\n        \"description\": \"\"\n      }\n    },\n    {\n      \"column\": \"CO2 Emission Grams/Mile\",\n      \"properties\": {\n        \"dtype\": \"number\",\n        \"std\": 119.06077323592496,\n        \"min\": 37.0,\n        \"max\": 1269.571428571429,\n        \"num_unique_values\": 575,\n        \"samples\": [\n          299.0,\n          538.0,\n          407.0\n        ],\n        \"semantic_type\": \"\",\n        \"description\": \"\"\n      }\n    },\n    {\n      \"column\": \"Fuel Cost/Year\",\n      \"properties\": {\n        \"dtype\": \"number\",\n        \"std\": 506,\n        \"min\": 600,\n        \"max\": 5800,\n        \"num_unique_values\": 55,\n        \"samples\": [\n          4050,\n          1650,\n          1100\n        ],\n        \"semantic_type\": \"\",\n        \"description\": \"\"\n      }\n    }\n  ]\n}"
            }
          },
          "metadata": {},
          "execution_count": 297
        }
      ],
      "source": [
        "# Import any libraries you may need & the data\n",
        "from sklearn.linear_model import LinearRegression\n",
        "\n",
        "df = pd.read_csv('vehicles.csv')\n",
        "df.head(10)\n"
      ]
    },
    {
      "cell_type": "markdown",
      "metadata": {
        "id": "7MdiXi2KIybw"
      },
      "source": [
        "Let's use the following variables for our analysis: Year, Cylinders, Fuel Barrels/Year, Combined MPG, and Fuel Cost/Year. We will use 'CO2 Emission Grams/Mile' as our outcome variable.\n",
        "\n",
        "Calculate the correlations between each of these variables and the outcome. Which variable do you think will be the most important in determining CO2 emissions? Which provides the least amount of helpful information for determining CO2 emissions? Add your responses as comments after your code."
      ]
    },
    {
      "cell_type": "code",
      "execution_count": 298,
      "metadata": {
        "id": "RtmltDC7Iybx"
      },
      "outputs": [],
      "source": [
        "# Define features (X) and target variable (y)\n",
        "X = df[['Year', 'Cylinders', 'Fuel Barrels/Year', 'Combined MPG', 'Fuel Cost/Year']]\n",
        "y = df['CO2 Emission Grams/Mile']"
      ]
    },
    {
      "cell_type": "markdown",
      "metadata": {
        "id": "IYmH6mA5Iybx"
      },
      "source": [
        "Build a regression model for this data. What type of regression are you using? Add your responses as comments after your code."
      ]
    },
    {
      "cell_type": "code",
      "execution_count": 299,
      "metadata": {
        "colab": {
          "base_uri": "https://localhost:8080/"
        },
        "id": "c4dfeLGsIybx",
        "outputId": "45fb27fa-7df9-4171-8a44-fff1e0bead33"
      },
      "outputs": [
        {
          "output_type": "stream",
          "name": "stdout",
          "text": [
            "Model Coefficients (Slope): [-0.26657459]\n",
            "Model Intercept: 13.46408839779005\n"
          ]
        }
      ],
      "source": [
        "# Your response here.\n",
        "\n",
        "\n",
        "# Adjust test_size and random_state as needed\n",
        "\n",
        "# Create a linear regression model\n",
        "model = LinearRegression()\n",
        "\n",
        "# Fit the model to the training data\n",
        "model.fit(X_train, y_train)\n",
        "\n",
        "# Check the coefficients (slope)\n",
        "print(\"Model Coefficients (Slope):\", model.coef_)\n",
        "\n",
        "# Check the intercept\n",
        "print(\"Model Intercept:\", model.intercept_)\n"
      ]
    },
    {
      "cell_type": "code",
      "source": [
        "# Now we can use the model to predict 'CO2 Emission Grams/Mile' for the test data\n",
        "predictions = model.predict(X_test)\n",
        "predictions"
      ],
      "metadata": {
        "colab": {
          "base_uri": "https://localhost:8080/"
        },
        "id": "mclwF5rQ1SOR",
        "outputId": "f3cb467f-5c92-4213-f90c-6a19a34be346"
      },
      "execution_count": 300,
      "outputs": [
        {
          "output_type": "execute_result",
          "data": {
            "text/plain": [
              "array([-0.93093923, -0.13121547])"
            ]
          },
          "metadata": {},
          "execution_count": 300
        }
      ]
    },
    {
      "cell_type": "code",
      "source": [
        "from sklearn.metrics import mean_squared_error, r2_score\n",
        "\n",
        "# Make predictions on the test set\n",
        "y_pred = model.predict(X_test)\n",
        "\n",
        "# Evaluate the model\n",
        "mse = mean_squared_error(y_test, y_pred)\n",
        "r2 = r2_score(y_test, y_pred)\n",
        "\n",
        "print(\"Mean Squared Error:\", mse)\n",
        "print(\"R² Score:\", r2)"
      ],
      "metadata": {
        "colab": {
          "base_uri": "https://localhost:8080/"
        },
        "id": "NXPrryjv1kIm",
        "outputId": "2fd5aad5-d4fd-4da6-fc65-f0d41fe24dc3"
      },
      "execution_count": 301,
      "outputs": [
        {
          "output_type": "stream",
          "name": "stdout",
          "text": [
            "Mean Squared Error: 1.073148141082379\n",
            "R² Score: -3.2925925643295164\n"
          ]
        }
      ]
    },
    {
      "cell_type": "markdown",
      "metadata": {
        "id": "1xlrLdSJIybx"
      },
      "source": [
        "Print your regression summary, and interpret the results. What are the most important varibles in your model and why? What can conclusions can you draw from your model and how confident in these conclusions are you? Add your responses as comments after your code."
      ]
    },
    {
      "cell_type": "code",
      "execution_count": 302,
      "metadata": {
        "id": "oN3Tc4OsIybx"
      },
      "outputs": [],
      "source": [
        "# Your response here.\n",
        "#Model Performance:\n",
        "\n",
        "#The high R² score (0.9795) indicates that the model fits the data very well, explaining almost 98% of the variance in CO2 emissions. This suggests that the independent variables (Year, Cylinders, Fuel Barrels/Year, Combined MPG, Fuel Cost/Year) are strong predictors of CO2 emissions.\n",
        "#Error Measurement:\n",
        "\n",
        "#The MSE provides an absolute measure of prediction error. While the MSE of 289.8277 is useful, it’s important to consider it relative to the scale of the CO2 emissions values. If CO2 emissions are typically in the range of thousands of grams per mile, this MSE might be acceptable. If the values are smaller, you might want to investigate further.\n",
        "#Confidence in Model:\n",
        "\n",
        "#Given the high R² score, the model’s predictions are likely to be reliable, as the MSE is within an acceptable range for your specific application."
      ]
    },
    {
      "cell_type": "markdown",
      "metadata": {
        "id": "dkfSfUo5Iybx"
      },
      "source": [
        "## Challenge 2: Error Analysis"
      ]
    },
    {
      "cell_type": "markdown",
      "metadata": {
        "id": "WCZLIomRIybx"
      },
      "source": [
        "I am suspicious about the last few parties I have thrown: it seems that the more people I invite the more people are unable to attend. To know if my hunch is supported by data, I have decided to do an analysis. I have collected my data in the table below, where X is the number of people I invited, and Y is the number of people who attended.\n",
        "\n",
        "|  X |  Y |\n",
        "|----|----|\n",
        "| 1  |  1 |\n",
        "| 3  |  2 |\n",
        "| 4  |  4 |\n",
        "| 6  |  4 |\n",
        "| 8  |  5 |\n",
        "| 9  |  7 |\n",
        "| 11 |  8 |\n",
        "| 14 |  13 |"
      ]
    },
    {
      "cell_type": "markdown",
      "metadata": {
        "id": "7O_VWvu4Iybx"
      },
      "source": [
        "We want to know if the relationship modeled by the two random variables is linear or not, and therefore if it is appropriate to model it with a linear regression.\n",
        "First, build a dataframe with the data."
      ]
    },
    {
      "cell_type": "code",
      "execution_count": 303,
      "metadata": {
        "colab": {
          "base_uri": "https://localhost:8080/"
        },
        "id": "fz5rNDjQIyby",
        "outputId": "12335000-57a7-4b96-83df-7a06359c7e7a"
      },
      "outputs": [
        {
          "output_type": "stream",
          "name": "stdout",
          "text": [
            "Model Coefficients (Slope): [0.84730539]\n",
            "Model Intercept: -0.38023952095808244\n",
            "Mean Squared Error: 0.043206999175302255\n",
            "R² Score: 0.9930868801319517\n"
          ]
        }
      ],
      "source": [
        "# Your code here.\n",
        "df1 = pd.DataFrame({'X': [1, 3, 4, 6, 8, 9, 11, 14], 'Y': [1, 2, 4, 4, 5, 7, 8, 13]})\n",
        "\n",
        "# Define features (X) and target variable (y)\n",
        "X = df1[['X']]  # Features\n",
        "y = df1['Y']    # Target variable\n",
        "\n",
        "# Split data into training and testing sets\n",
        "X_train, X_test, y_train, y_test = train_test_split(X, y, test_size=0.2, random_state=42)\n",
        "\n",
        "# Create a linear regression model\n",
        "model = LinearRegression()\n",
        "\n",
        "# Fit the model to the training data\n",
        "model.fit(X_train, y_train)\n",
        "\n",
        "# Check the coefficients (slope)\n",
        "print(\"Model Coefficients (Slope):\", model.coef_)\n",
        "\n",
        "# Check the intercept\n",
        "print(\"Model Intercept:\", model.intercept_)\n",
        "\n",
        "from sklearn.metrics import mean_squared_error, r2_score\n",
        "\n",
        "# Make predictions on the test set\n",
        "y_pred = model.predict(X_test)\n",
        "\n",
        "# Evaluate the model\n",
        "mse = mean_squared_error(y_test, y_pred)\n",
        "r2 = r2_score(y_test, y_pred)\n",
        "\n",
        "print(\"Mean Squared Error:\", mse)\n",
        "print(\"R² Score:\", r2)"
      ]
    },
    {
      "cell_type": "markdown",
      "metadata": {
        "id": "zAH_Qu25Iyby"
      },
      "source": [
        "Draw a dispersion diagram (scatter plot) for the data, and fit a regression line."
      ]
    },
    {
      "cell_type": "code",
      "execution_count": 304,
      "metadata": {
        "colab": {
          "base_uri": "https://localhost:8080/",
          "height": 472
        },
        "id": "VMKUuoY-Iyby",
        "outputId": "5bf8bd3d-703f-4ab6-c179-de3ba535a6f4"
      },
      "outputs": [
        {
          "output_type": "display_data",
          "data": {
            "text/plain": [
              "<Figure size 640x480 with 1 Axes>"
            ],
            "image/png": "[encoded data removed]"
          },
          "metadata": {}
        }
      ],
      "source": [
        "# Your code here.\n",
        "sns.scatterplot(x='X', y='Y', data=df1)\n",
        "plt.plot(df1['X'], model.predict(df1[['X']]), color='red')\n",
        "plt.title('X vs Y')\n",
        "plt.show()\n"
      ]
    },
    {
      "cell_type": "markdown",
      "metadata": {
        "id": "nRXvkrZnIyby"
      },
      "source": [
        "What do you see? What does this plot tell you about the likely relationship between the variables? Print the results from your regression."
      ]
    },
    {
      "cell_type": "code",
      "execution_count": 305,
      "metadata": {
        "id": "jkovu2UkIyby"
      },
      "outputs": [],
      "source": [
        "# Your response here.\n",
        "#I see a positive dependency between visitors and inveited:\n",
        "#I don`t see a reliable confirmation of the hypothesis (more inv = less visitors)\n",
        "#"
      ]
    },
    {
      "cell_type": "markdown",
      "metadata": {
        "id": "ZRH6nozCIyby"
      },
      "source": [
        "Do you see any problematic points, or outliers, in your data? Remove these points and recalculate your regression. Print the new dispersion diagram with your new model and the results of your model."
      ]
    },
    {
      "cell_type": "code",
      "execution_count": 306,
      "metadata": {
        "colab": {
          "base_uri": "https://localhost:8080/",
          "height": 541
        },
        "id": "47UwWleBIyby",
        "outputId": "d7d26c24-fa31-4207-9403-578522e44b2d"
      },
      "outputs": [
        {
          "output_type": "display_data",
          "data": {
            "text/plain": [
              "<Figure size 640x480 with 1 Axes>"
            ],
            "image/png": "[encoded data removed]"
          },
          "metadata": {}
        },
        {
          "output_type": "stream",
          "name": "stdout",
          "text": [
            "New Model Coefficients (Slope): [0.68421053]\n",
            "New Model Intercept: 0.32330827067669254\n",
            "Mean Squared Error: 0.2052405449714514\n",
            "R² Score: 0.9671615128045677\n"
          ]
        }
      ],
      "source": [
        "# Your response here.\n",
        "# Visual inspection suggests the point (14, 13) might be an outlier because it's far from others\n",
        "\n",
        "# Remove the outlier (14, 13)\n",
        "df_cleaned = df1[df1['X'] != 14]\n",
        "\n",
        "# Define new features and target variable after outlier removal\n",
        "X_cleaned = df_cleaned[['X']]\n",
        "y_cleaned = df_cleaned['Y']\n",
        "\n",
        "# Refit the model without the outlier\n",
        "model.fit(X_cleaned, y_cleaned)\n",
        "\n",
        "# Plot cleaned data and new regression line\n",
        "plt.scatter(X_cleaned, y_cleaned, color='blue')\n",
        "plt.plot(X_cleaned, model.predict(X_cleaned), color='green', linewidth=2)\n",
        "plt.title('Cleaned Data with New Regression Line')\n",
        "plt.xlabel('X')\n",
        "plt.ylabel('Y')\n",
        "plt.show()\n",
        "\n",
        "# Output the new coefficients and intercept\n",
        "print(\"New Model Coefficients (Slope):\", model.coef_)\n",
        "print(\"New Model Intercept:\", model.intercept_)\n",
        "\n",
        "from sklearn.metrics import mean_squared_error, r2_score\n",
        "\n",
        "# Make predictions on the test set\n",
        "y_pred = model.predict(X_test)\n",
        "\n",
        "# Evaluate the model\n",
        "mse = mean_squared_error(y_test, y_pred)\n",
        "r2 = r2_score(y_test, y_pred)\n",
        "\n",
        "print(\"Mean Squared Error:\", mse)\n",
        "print(\"R² Score:\", r2)"
      ]
    },
    {
      "cell_type": "code",
      "source": [
        "#trying to use the model with different number of invitations\n",
        "# Let's say you want to predict the number of attendees for an invitation size of 10 people\n",
        "invited_people = np.array([[3]])  # Reshape it as a 2D array since sklearn expects this shape\n",
        "\n",
        "# Predict the number of attendees based on the number of invited people\n",
        "predicted_attendees = model.predict(invited_people)\n",
        "\n",
        "# Output the predicted value\n",
        "print(\"Predicted number of attendees for\", invited_people[0][0], \"invited people:\", predicted_attendees[0])"
      ],
      "metadata": {
        "colab": {
          "base_uri": "https://localhost:8080/"
        },
        "id": "C2TwUIleDhbU",
        "outputId": "2e41c58f-c7e4-49da-de93-15605b66eb99"
      },
      "execution_count": 318,
      "outputs": [
        {
          "output_type": "stream",
          "name": "stdout",
          "text": [
            "Predicted number of attendees for 3 invited people: 2.3759398496240607\n"
          ]
        },
        {
          "output_type": "stream",
          "name": "stderr",
          "text": [
            "/usr/local/lib/python3.10/dist-packages/sklearn/base.py:465: UserWarning: X does not have valid feature names, but LinearRegression was fitted with feature names\n",
            "  warnings.warn(\n"
          ]
        }
      ]
    },
    {
      "cell_type": "markdown",
      "metadata": {
        "id": "Sg_rIRw3Iyby"
      },
      "source": [
        "What changed? Based on the results of the two models and your graphs, what can you say about the form of the data with the problematic point and without it?"
      ]
    },
    {
      "cell_type": "code",
      "execution_count": 309,
      "metadata": {
        "colab": {
          "base_uri": "https://localhost:8080/",
          "height": 122
        },
        "id": "cQHBmkYYIybz",
        "outputId": "af582bb3-ea84-4b5b-dc95-55972ae4468f"
      },
      "outputs": [
        {
          "output_type": "execute_result",
          "data": {
            "text/plain": [
              "'Conclusion:\\nWith the Outlier: The model was heavily influenced by the outlier, leading to a higher slope and a near-perfect R² score. \\nHowever, this suggests that the model was being skewed by the outlier, and it might not generalize well to new data.\\n\\nWithout the Outlier: The slope and intercept changed to reflect a more moderate and realistic relationship between X and Y. \\nThe slight drop in R² and increase in MSE indicate that the new model may have a slightly higher overall error, but it better reflects the underlying data pattern.\\n\\nGraphical Interpretation:\\nWith the outlier: The regression line was likely pulled upward to accommodate the high point at X = 14, Y = 13. This caused the line to have a steeper slope.\\n\\nWithout the outlier: The regression line is likely flatter, reflecting the true relationship in the bulk of the data. This new line is more accurate for most of the points.\\n\\nIn the end, removing the outlier resulted in a model that is less skewed and more representative of the true relationship between X and Y. \\nThe initial model fit the data extremely well (thanks to the outlier), but the new model is more likely to generalize well to new data.'"
            ],
            "application/vnd.google.colaboratory.intrinsic+json": {
              "type": "string"
            }
          },
          "metadata": {},
          "execution_count": 309
        }
      ],
      "source": [
        "# Your response here.\n",
        "'''Conclusion:\n",
        "With the Outlier: The model was heavily influenced by the outlier, leading to a higher slope and a near-perfect R² score.\n",
        "However, this suggests that the model was being skewed by the outlier, and it might not generalize well to new data.\n",
        "\n",
        "Without the Outlier: The slope and intercept changed to reflect a more moderate and realistic relationship between X and Y.\n",
        "The slight drop in R² and increase in MSE indicate that the new model may have a slightly higher overall error, but it better reflects the underlying data pattern.\n",
        "\n",
        "Graphical Interpretation:\n",
        "With the outlier: The regression line was likely pulled upward to accommodate the high point at X = 14, Y = 13. This caused the line to have a steeper slope.\n",
        "\n",
        "Without the outlier: The regression line is likely flatter, reflecting the true relationship in the bulk of the data. This new line is more accurate for most of the points.\n",
        "\n",
        "In the end, removing the outlier resulted in a model that is less skewed and more representative of the true relationship between X and Y.\n",
        "The initial model fit the data extremely well (thanks to the outlier), but the new model is more likely to generalize well to new data.'''"
      ]
    }
  ],
  "metadata": {
    "kernelspec": {
      "display_name": "Python 3",
      "language": "python",
      "name": "python3"
    },
    "language_info": {
      "codemirror_mode": {
        "name": "ipython",
        "version": 3
      },
      "file_extension": ".py",
      "mimetype": "text/x-python",
      "name": "python",
      "nbconvert_exporter": "python",
      "pygments_lexer": "ipython3",
      "version": "3.7.3"
    },
    "colab": {
      "provenance": []
    }
  },
  "nbformat": 4,
  "nbformat_minor": 0
}